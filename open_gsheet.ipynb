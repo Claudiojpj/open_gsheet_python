{
 "cells": [
  {
   "cell_type": "code",
   "execution_count": null,
   "id": "0a3107e1-ff5c-4bcd-9e17-6b1a4b821412",
   "metadata": {},
   "outputs": [],
   "source": [
    "#Import Libs\n",
    "import gspread\n",
    "import gspread_dataframe as gd\n",
    "from google.oauth2.service_account import Credentials\n",
    "from gspread_dataframe import set_with_dataframe"
   ]
  },
  {
   "cell_type": "code",
   "execution_count": null,
   "id": "784d4fd5-43c1-491f-8ca4-d7e178d90c20",
   "metadata": {},
   "outputs": [],
   "source": [
    "#google spreadsheet access + open archive\n",
    "\n",
    "json_file = ('C:/Users/claudio.ponchi/Desktop/Claudio.ponchi/inspired-carver-305018-9a376d9e5a8a.json') # get code at google\n",
    "scope = ['https://spreadsheets.google.com/feeds']\n",
    "creds = ServiceAccountCredentials.from_json_keyfile_name(json_file, scope)\n",
    "gc = gspread.authorize(creds) # autorization to access your file\n",
    "\n",
    "destination = gc.open_by_key('1DyBz6ip06jjZRf91K9-IYRXiturKqkFM9DJynaQotCM') #just the key from spreadsheet\n",
    "raw_data = destination.worksheet('Sheet1') # tab name\n",
    "df = pd.DataFrame(raw_data.get_all_records())\n"
   ]
  },
  {
   "cell_type": "code",
   "execution_count": null,
   "id": "6f251285-ad42-4988-bc52-894b0157c286",
   "metadata": {},
   "outputs": [],
   "source": []
  }
 ],
 "metadata": {
  "kernelspec": {
   "display_name": "Python 3 (ipykernel)",
   "language": "python",
   "name": "python3"
  },
  "language_info": {
   "codemirror_mode": {
    "name": "ipython",
    "version": 3
   },
   "file_extension": ".py",
   "mimetype": "text/x-python",
   "name": "python",
   "nbconvert_exporter": "python",
   "pygments_lexer": "ipython3",
   "version": "3.9.12"
  }
 },
 "nbformat": 4,
 "nbformat_minor": 5
}
